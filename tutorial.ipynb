{
 "cells": [
  {
   "attachments": {},
   "cell_type": "markdown",
   "metadata": {},
   "source": [
    "# Waffle Hub Tutorial"
   ]
  },
  {
   "attachments": {},
   "cell_type": "markdown",
   "metadata": {},
   "source": [
    "# Prepare dataset"
   ]
  },
  {
   "cell_type": "code",
   "execution_count": 1,
   "metadata": {},
   "outputs": [
    {
     "name": "stdout",
     "output_type": "stream",
     "text": [
      "\u001b[01;34mmnist\u001b[00m\n",
      "├── coco.json\n",
      "└── \u001b[01;34mimages\u001b[00m\n",
      "    ├── 100.png\n",
      "    ├── 10.png\n",
      "    ├── 11.png\n",
      "    ├── 12.png\n",
      "    ├── 13.png\n",
      "    ├── 14.png\n",
      "    ├── 15.png\n",
      "    ├── 16.png\n",
      "    ├── 17.png\n",
      "    ├── 18.png\n",
      "    ├── 19.png\n",
      "    ├── 1.png\n",
      "    ├── 20.png\n",
      "    ├── 21.png\n",
      "    ├── 22.png\n",
      "    ├── 23.png\n",
      "    ├── 24.png\n",
      "    ├── 25.png\n",
      "    ├── 26.png\n",
      "    ├── 27.png\n",
      "    ├── 28.png\n",
      "    ├── 29.png\n",
      "    ├── 2.png\n",
      "    ├── 30.png\n",
      "    ├── 31.png\n",
      "    ├── 32.png\n",
      "    ├── 33.png\n",
      "    ├── 34.png\n",
      "    ├── 35.png\n",
      "    ├── 36.png\n",
      "    ├── 37.png\n",
      "    ├── 38.png\n",
      "    ├── 39.png\n",
      "    ├── 3.png\n",
      "    ├── 40.png\n",
      "    ├── 41.png\n",
      "    ├── 42.png\n",
      "    ├── 43.png\n",
      "    ├── 44.png\n",
      "    ├── 45.png\n",
      "    ├── 46.png\n",
      "    ├── 47.png\n",
      "    ├── 48.png\n",
      "    ├── 49.png\n",
      "    ├── 4.png\n",
      "    ├── 50.png\n",
      "    ├── 51.png\n",
      "    ├── 52.png\n",
      "    ├── 53.png\n",
      "    ├── 54.png\n",
      "    ├── 55.png\n",
      "    ├── 56.png\n",
      "    ├── 57.png\n",
      "    ├── 58.png\n",
      "    ├── 59.png\n",
      "    ├── 5.png\n",
      "    ├── 60.png\n",
      "    ├── 61.png\n",
      "    ├── 62.png\n",
      "    ├── 63.png\n",
      "    ├── 64.png\n",
      "    ├── 65.png\n",
      "    ├── 66.png\n",
      "    ├── 67.png\n",
      "    ├── 68.png\n",
      "    ├── 69.png\n",
      "    ├── 6.png\n",
      "    ├── 70.png\n",
      "    ├── 71.png\n",
      "    ├── 72.png\n",
      "    ├── 73.png\n",
      "    ├── 74.png\n",
      "    ├── 75.png\n",
      "    ├── 76.png\n",
      "    ├── 77.png\n",
      "    ├── 78.png\n",
      "    ├── 79.png\n",
      "    ├── 7.png\n",
      "    ├── 80.png\n",
      "    ├── 81.png\n",
      "    ├── 82.png\n",
      "    ├── 83.png\n",
      "    ├── 84.png\n",
      "    ├── 85.png\n",
      "    ├── 86.png\n",
      "    ├── 87.png\n",
      "    ├── 88.png\n",
      "    ├── 89.png\n",
      "    ├── 8.png\n",
      "    ├── 90.png\n",
      "    ├── 91.png\n",
      "    ├── 92.png\n",
      "    ├── 93.png\n",
      "    ├── 94.png\n",
      "    ├── 95.png\n",
      "    ├── 96.png\n",
      "    ├── 97.png\n",
      "    ├── 98.png\n",
      "    ├── 99.png\n",
      "    └── 9.png\n",
      "\n",
      "1 directory, 101 files\n"
     ]
    }
   ],
   "source": [
    "! tree mnist"
   ]
  },
  {
   "cell_type": "code",
   "execution_count": 2,
   "metadata": {},
   "outputs": [
    {
     "name": "stdout",
     "output_type": "stream",
     "text": [
      "\u001b[01;34mdatasets/mnist_detection\u001b[00m\n",
      "├── \u001b[01;34mcategories\u001b[00m\n",
      "├── \u001b[01;34mimages\u001b[00m\n",
      "├── \u001b[01;34mlabels\u001b[00m\n",
      "└── \u001b[01;34mraw\u001b[00m\n",
      "\n",
      "4 directories\n"
     ]
    }
   ],
   "source": [
    "from waffle_utils.dataset import Dataset\n",
    "\n",
    "ds = Dataset.from_coco(\n",
    "    name=\"mnist_detection\",\n",
    "    coco_file=\"mnist/coco.json\",\n",
    "    coco_root_dir=\"mnist/images/\"\n",
    ")\n",
    "! tree -d -L 1 datasets/mnist_detection"
   ]
  },
  {
   "cell_type": "code",
   "execution_count": 3,
   "metadata": {},
   "outputs": [
    {
     "name": "stdout",
     "output_type": "stream",
     "text": [
      "\u001b[01;34mdatasets/mnist_detection/sets\u001b[00m\n",
      "├── train.json\n",
      "└── val.json\n",
      "\n",
      "0 directories, 2 files\n"
     ]
    }
   ],
   "source": [
    "ds.split_train_val(0.8)\n",
    "! tree datasets/mnist_detection/sets"
   ]
  },
  {
   "cell_type": "code",
   "execution_count": 4,
   "metadata": {},
   "outputs": [
    {
     "name": "stdout",
     "output_type": "stream",
     "text": [
      "\u001b[01;34mdatasets/mnist_detection/exports/YOLO_DETECTION\u001b[00m\n",
      "├── data.yaml\n",
      "├── \u001b[01;34mtrain\u001b[00m\n",
      "└── \u001b[01;34mval\u001b[00m\n",
      "\n",
      "2 directories, 1 file\n"
     ]
    }
   ],
   "source": [
    "export_dir = ds.export(\"YOLO_DETECTION\")\n",
    "! tree -L 1 datasets/mnist_detection/exports/YOLO_DETECTION"
   ]
  },
  {
   "cell_type": "code",
   "execution_count": 5,
   "metadata": {},
   "outputs": [
    {
     "name": "stdout",
     "output_type": "stream",
     "text": [
      "path: /home/lhj/ws/waffle_hub/datasets/mnist_detection/exports/YOLO_DETECTION\n",
      "train: train\n",
      "val: val\n",
      "names:\n",
      "    0: '1'\n",
      "    1: '2'\n"
     ]
    }
   ],
   "source": [
    "! cat datasets/mnist_detection/exports/YOLO_DETECTION/data.yaml"
   ]
  },
  {
   "attachments": {},
   "cell_type": "markdown",
   "metadata": {},
   "source": [
    "# Create Hub"
   ]
  },
  {
   "cell_type": "code",
   "execution_count": 6,
   "metadata": {},
   "outputs": [
    {
     "name": "stdout",
     "output_type": "stream",
     "text": [
      "┌─────────────┬───────────┐\n",
      "│ Backend     │ Version   │\n",
      "├─────────────┼───────────┤\n",
      "│ ultralytics │ 8.0.49    │\n",
      "│             │ 8.0.50    │\n",
      "└─────────────┴───────────┘\n"
     ]
    },
    {
     "name": "stderr",
     "output_type": "stream",
     "text": [
      "/home/lhj/anaconda3/envs/play/lib/python3.9/site-packages/tqdm/auto.py:21: TqdmWarning: IProgress not found. Please update jupyter and ipywidgets. See https://ipywidgets.readthedocs.io/en/stable/user_install.html\n",
      "  from .autonotebook import tqdm as notebook_tqdm\n"
     ]
    }
   ],
   "source": [
    "from waffle_hub import get_available_backends\n",
    "\n",
    "print(get_available_backends())"
   ]
  },
  {
   "cell_type": "code",
   "execution_count": 7,
   "metadata": {},
   "outputs": [
    {
     "name": "stdout",
     "output_type": "stream",
     "text": [
      "Model(name='my_model', backend='ultralytics', version='8.0.50', task='detect', model_type='yolov8', model_size='n')\n"
     ]
    }
   ],
   "source": [
    "from waffle_hub.hub import UltralyticsHub\n",
    "\n",
    "hub = UltralyticsHub(\n",
    "    name=\"my_model\",\n",
    "    task=\"detect\",\n",
    "    model_type=\"yolov8\",\n",
    "    model_size=\"n\"\n",
    ")"
   ]
  },
  {
   "cell_type": "code",
   "execution_count": 8,
   "metadata": {},
   "outputs": [
    {
     "name": "stdout",
     "output_type": "stream",
     "text": [
      "\u001b[01;34m/home/lhj/ws/waffle_hub/models/my_model\u001b[00m\n",
      "└── \u001b[01;34mconfigs\u001b[00m\n",
      "    └── model.yaml\n",
      "\n",
      "1 directory, 1 file\n"
     ]
    }
   ],
   "source": [
    "! tree /home/lhj/ws/waffle_hub/models/my_model"
   ]
  },
  {
   "cell_type": "code",
   "execution_count": 9,
   "metadata": {},
   "outputs": [
    {
     "name": "stdout",
     "output_type": "stream",
     "text": [
      "name: my_model\n",
      "backend: ultralytics\n",
      "version: 8.0.50\n",
      "task: detect\n",
      "model_type: yolov8\n",
      "model_size: n\n"
     ]
    }
   ],
   "source": [
    "! cat /home/lhj/ws/waffle_hub/models/my_model/configs/model.yaml"
   ]
  },
  {
   "cell_type": "code",
   "execution_count": 10,
   "metadata": {},
   "outputs": [
    {
     "name": "stderr",
     "output_type": "stream",
     "text": [
      "New https://pypi.org/project/ultralytics/8.0.51 available 😃 Update with 'pip install -U ultralytics'\n",
      "Ultralytics YOLOv8.0.50 🚀 Python-3.9.16 torch-1.13.1 CUDA:0 (NVIDIA GeForce RTX 4090, 24215MiB)\n",
      "\u001b[34m\u001b[1myolo/engine/trainer: \u001b[0mtask=detect, mode=train, model=yolov8n.pt, data=/home/lhj/ws/waffle_hub/datasets/mnist_detection/exports/YOLO_DETECTION/data.yaml, epochs=30, patience=50, batch=16, imgsz=320, save=True, save_period=-1, cache=False, device=0, workers=2, project=models/my_model, name=artifacts, exist_ok=False, pretrained=False, optimizer=SGD, verbose=True, seed=0, deterministic=True, single_cls=False, image_weights=False, rect=False, cos_lr=False, close_mosaic=10, resume=False, min_memory=False, overlap_mask=True, mask_ratio=4, dropout=0.0, val=True, split=val, save_json=False, save_hybrid=False, conf=None, iou=0.7, max_det=300, half=False, dnn=False, plots=True, source=None, show=False, save_txt=False, save_conf=False, save_crop=False, hide_labels=False, hide_conf=False, vid_stride=1, line_thickness=3, visualize=False, augment=False, agnostic_nms=False, classes=None, retina_masks=False, boxes=True, format=torchscript, keras=False, optimize=False, int8=False, dynamic=False, simplify=False, opset=None, workspace=4, nms=False, lr0=0.01, lrf=0.01, momentum=0.937, weight_decay=0.0005, warmup_epochs=3.0, warmup_momentum=0.8, warmup_bias_lr=0.1, box=7.5, cls=0.5, dfl=1.5, fl_gamma=0.0, label_smoothing=0.0, nbs=64, hsv_h=0.015, hsv_s=0.7, hsv_v=0.4, degrees=0.0, translate=0.1, scale=0.5, shear=0.0, perspective=0.0, flipud=0.0, fliplr=0.5, mosaic=1.0, mixup=0.0, copy_paste=0.0, cfg=None, v5loader=False, tracker=botsort.yaml, save_dir=models/my_model/artifacts\n",
      "Overriding model.yaml nc=80 with nc=2\n",
      "\n",
      "                   from  n    params  module                                       arguments                     \n",
      "  0                  -1  1       464  ultralytics.nn.modules.Conv                  [3, 16, 3, 2]                 \n",
      "  1                  -1  1      4672  ultralytics.nn.modules.Conv                  [16, 32, 3, 2]                \n",
      "  2                  -1  1      7360  ultralytics.nn.modules.C2f                   [32, 32, 1, True]             \n",
      "  3                  -1  1     18560  ultralytics.nn.modules.Conv                  [32, 64, 3, 2]                \n",
      "  4                  -1  2     49664  ultralytics.nn.modules.C2f                   [64, 64, 2, True]             \n",
      "  5                  -1  1     73984  ultralytics.nn.modules.Conv                  [64, 128, 3, 2]               \n",
      "  6                  -1  2    197632  ultralytics.nn.modules.C2f                   [128, 128, 2, True]           \n",
      "  7                  -1  1    295424  ultralytics.nn.modules.Conv                  [128, 256, 3, 2]              \n",
      "  8                  -1  1    460288  ultralytics.nn.modules.C2f                   [256, 256, 1, True]           \n",
      "  9                  -1  1    164608  ultralytics.nn.modules.SPPF                  [256, 256, 5]                 \n",
      " 10                  -1  1         0  torch.nn.modules.upsampling.Upsample         [None, 2, 'nearest']          \n",
      " 11             [-1, 6]  1         0  ultralytics.nn.modules.Concat                [1]                           \n",
      " 12                  -1  1    148224  ultralytics.nn.modules.C2f                   [384, 128, 1]                 \n",
      " 13                  -1  1         0  torch.nn.modules.upsampling.Upsample         [None, 2, 'nearest']          \n",
      " 14             [-1, 4]  1         0  ultralytics.nn.modules.Concat                [1]                           \n",
      " 15                  -1  1     37248  ultralytics.nn.modules.C2f                   [192, 64, 1]                  \n",
      " 16                  -1  1     36992  ultralytics.nn.modules.Conv                  [64, 64, 3, 2]                \n",
      " 17            [-1, 12]  1         0  ultralytics.nn.modules.Concat                [1]                           \n",
      " 18                  -1  1    123648  ultralytics.nn.modules.C2f                   [192, 128, 1]                 \n",
      " 19                  -1  1    147712  ultralytics.nn.modules.Conv                  [128, 128, 3, 2]              \n",
      " 20             [-1, 9]  1         0  ultralytics.nn.modules.Concat                [1]                           \n",
      " 21                  -1  1    493056  ultralytics.nn.modules.C2f                   [384, 256, 1]                 \n",
      " 22        [15, 18, 21]  1    751702  ultralytics.nn.modules.Detect                [2, [64, 128, 256]]           \n",
      "\n",
      "Transferred 319/355 items from pretrained weights\n",
      "\u001b[34m\u001b[1mAMP: \u001b[0mrunning Automatic Mixed Precision (AMP) checks with YOLOv8n...\n",
      "Found https://ultralytics.com/images/bus.jpg locally at bus.jpg\n",
      "Found https://ultralytics.com/images/bus.jpg locally at bus.jpg\n",
      "\u001b[34m\u001b[1mAMP: \u001b[0mchecks passed ✅\n",
      "\u001b[34m\u001b[1moptimizer:\u001b[0m SGD(lr=0.01) with parameter groups 57 weight(decay=0.0), 64 weight(decay=0.0005), 63 bias\n",
      "\u001b[34m\u001b[1mtrain: \u001b[0mScanning /home/lhj/ws/waffle_hub/datasets/mnist_detection/exports/YOLO_DETECTION/train/labels... 80 images, 0 backgrounds, 0 corrupt: 100%|██████████| 80/80 [00:00<00:00, 6622.28it/s]\n",
      "\u001b[34m\u001b[1mtrain: \u001b[0mNew cache created: /home/lhj/ws/waffle_hub/datasets/mnist_detection/exports/YOLO_DETECTION/train/labels.cache\n",
      "\u001b[34m\u001b[1mval: \u001b[0mScanning /home/lhj/ws/waffle_hub/datasets/mnist_detection/exports/YOLO_DETECTION/val/labels... 20 images, 0 backgrounds, 0 corrupt: 100%|██████████| 20/20 [00:00<00:00, 7878.85it/s]\n",
      "\u001b[34m\u001b[1mval: \u001b[0mNew cache created: /home/lhj/ws/waffle_hub/datasets/mnist_detection/exports/YOLO_DETECTION/val/labels.cache\n",
      "Plotting labels to models/my_model/artifacts/labels.jpg... \n",
      "Image sizes 320 train, 320 val\n",
      "Using 2 dataloader workers\n",
      "Logging results to \u001b[1mmodels/my_model/artifacts\u001b[0m\n",
      "Starting training for 30 epochs...\n",
      "\n",
      "      Epoch    GPU_mem   box_loss   cls_loss   dfl_loss  Instances       Size\n",
      "       1/30     0.747G      1.603      4.005      1.055         30        320: 100%|██████████| 5/5 [00:00<00:00,  6.27it/s]\n",
      "/home/lhj/anaconda3/envs/play/lib/python3.9/site-packages/torch/optim/lr_scheduler.py:138: UserWarning: Detected call of `lr_scheduler.step()` before `optimizer.step()`. In PyTorch 1.1.0 and later, you should call them in the opposite order: `optimizer.step()` before `lr_scheduler.step()`.  Failure to do this will result in PyTorch skipping the first value of the learning rate schedule. See more details at https://pytorch.org/docs/stable/optim.html#how-to-adjust-learning-rate\n",
      "  warnings.warn(\"Detected call of `lr_scheduler.step()` before `optimizer.step()`. \"\n",
      "                 Class     Images  Instances      Box(P          R      mAP50  mAP50-95): 100%|██████████| 1/1 [00:00<00:00,  3.98it/s]\n",
      "                   all         20         20    0.00318        0.8    0.00664    0.00448\n",
      "\n",
      "      Epoch    GPU_mem   box_loss   cls_loss   dfl_loss  Instances       Size\n",
      "       2/30     0.747G      1.636      4.202       1.06         29        320: 100%|██████████| 5/5 [00:00<00:00,  7.10it/s]\n",
      "                 Class     Images  Instances      Box(P          R      mAP50  mAP50-95): 100%|██████████| 1/1 [00:00<00:00,  4.53it/s]\n",
      "                   all         20         20    0.00359        0.9     0.0119    0.00761\n",
      "\n",
      "      Epoch    GPU_mem   box_loss   cls_loss   dfl_loss  Instances       Size\n",
      "       3/30     0.757G      1.424      4.067      1.006         24        320: 100%|██████████| 5/5 [00:00<00:00,  6.96it/s]\n",
      "                 Class     Images  Instances      Box(P          R      mAP50  mAP50-95): 100%|██████████| 1/1 [00:00<00:00,  4.60it/s]\n",
      "                   all         20         20    0.00362       0.95    0.00807    0.00497\n",
      "\n",
      "      Epoch    GPU_mem   box_loss   cls_loss   dfl_loss  Instances       Size\n",
      "       4/30     0.757G      1.219      3.743     0.9262         24        320: 100%|██████████| 5/5 [00:00<00:00,  7.23it/s]\n",
      "                 Class     Images  Instances      Box(P          R      mAP50  mAP50-95): 100%|██████████| 1/1 [00:00<00:00,  4.59it/s]\n",
      "                   all         20         20    0.00328        0.9    0.00748    0.00543\n",
      "\n",
      "      Epoch    GPU_mem   box_loss   cls_loss   dfl_loss  Instances       Size\n",
      "       5/30     0.757G      1.202      3.583      0.939         23        320: 100%|██████████| 5/5 [00:00<00:00,  6.86it/s]\n",
      "                 Class     Images  Instances      Box(P          R      mAP50  mAP50-95): 100%|██████████| 1/1 [00:00<00:00,  4.64it/s]\n",
      "                   all         20         20    0.00335       0.95     0.0102    0.00768\n",
      "\n",
      "      Epoch    GPU_mem   box_loss   cls_loss   dfl_loss  Instances       Size\n",
      "       6/30     0.757G     0.9895      3.077     0.8866         24        320: 100%|██████████| 5/5 [00:00<00:00,  6.93it/s]\n",
      "                 Class     Images  Instances      Box(P          R      mAP50  mAP50-95): 100%|██████████| 1/1 [00:00<00:00,  4.54it/s]\n",
      "                   all         20         20    0.00243       0.75     0.0106    0.00816\n",
      "\n",
      "      Epoch    GPU_mem   box_loss   cls_loss   dfl_loss  Instances       Size\n",
      "       7/30     0.757G     0.9367      2.562      0.869         26        320: 100%|██████████| 5/5 [00:00<00:00,  6.81it/s]\n",
      "                 Class     Images  Instances      Box(P          R      mAP50  mAP50-95): 100%|██████████| 1/1 [00:00<00:00,  4.60it/s]\n",
      "                   all         20         20    0.00304        0.9     0.0139    0.00982\n",
      "\n",
      "      Epoch    GPU_mem   box_loss   cls_loss   dfl_loss  Instances       Size\n",
      "       8/30     0.757G     0.9755      1.885     0.9023         17        320: 100%|██████████| 5/5 [00:00<00:00,  7.24it/s]\n",
      "                 Class     Images  Instances      Box(P          R      mAP50  mAP50-95): 100%|██████████| 1/1 [00:00<00:00,  4.56it/s]\n",
      "                   all         20         20    0.00363          1      0.281       0.23\n",
      "\n",
      "      Epoch    GPU_mem   box_loss   cls_loss   dfl_loss  Instances       Size\n",
      "       9/30     0.757G      1.143      1.658     0.9769         28        320: 100%|██████████| 5/5 [00:00<00:00,  6.87it/s]\n",
      "                 Class     Images  Instances      Box(P          R      mAP50  mAP50-95): 100%|██████████| 1/1 [00:00<00:00,  4.52it/s]\n",
      "                   all         20         20    0.00342          1      0.459      0.377\n",
      "\n",
      "      Epoch    GPU_mem   box_loss   cls_loss   dfl_loss  Instances       Size\n",
      "      10/30     0.757G     0.9492      1.519     0.9019         28        320: 100%|██████████| 5/5 [00:00<00:00,  7.09it/s]\n",
      "                 Class     Images  Instances      Box(P          R      mAP50  mAP50-95): 100%|██████████| 1/1 [00:00<00:00,  4.49it/s]\n",
      "                   all         20         20    0.00338          1      0.415      0.344\n",
      "\n",
      "      Epoch    GPU_mem   box_loss   cls_loss   dfl_loss  Instances       Size\n",
      "      11/30     0.757G     0.9886      1.463     0.9239         20        320: 100%|██████████| 5/5 [00:00<00:00,  7.21it/s]\n",
      "                 Class     Images  Instances      Box(P          R      mAP50  mAP50-95): 100%|██████████| 1/1 [00:00<00:00,  4.45it/s]\n",
      "                   all         20         20    0.00337          1      0.538      0.436\n",
      "\n",
      "      Epoch    GPU_mem   box_loss   cls_loss   dfl_loss  Instances       Size\n",
      "      12/30     0.757G     0.9212      1.371     0.9067         24        320: 100%|██████████| 5/5 [00:00<00:00,  6.75it/s]\n",
      "                 Class     Images  Instances      Box(P          R      mAP50  mAP50-95): 100%|██████████| 1/1 [00:00<00:00,  4.52it/s]\n",
      "                   all         20         20    0.00349          1      0.907      0.609\n",
      "\n",
      "      Epoch    GPU_mem   box_loss   cls_loss   dfl_loss  Instances       Size\n",
      "      13/30     0.757G      0.955      1.277      0.921         20        320: 100%|██████████| 5/5 [00:00<00:00,  6.93it/s]\n",
      "                 Class     Images  Instances      Box(P          R      mAP50  mAP50-95): 100%|██████████| 1/1 [00:00<00:00,  4.45it/s]\n",
      "                   all         20         20    0.00342          1      0.973      0.685\n",
      "\n",
      "      Epoch    GPU_mem   box_loss   cls_loss   dfl_loss  Instances       Size\n",
      "      14/30     0.757G     0.9408      1.224     0.8592         22        320: 100%|██████████| 5/5 [00:00<00:00,  6.94it/s]\n",
      "                 Class     Images  Instances      Box(P          R      mAP50  mAP50-95): 100%|██████████| 1/1 [00:00<00:00,  4.51it/s]\n",
      "                   all         20         20          1      0.266      0.995      0.682\n",
      "\n",
      "      Epoch    GPU_mem   box_loss   cls_loss   dfl_loss  Instances       Size\n",
      "      15/30     0.757G     0.9533       1.16     0.9068         22        320: 100%|██████████| 5/5 [00:00<00:00,  7.21it/s]\n",
      "                 Class     Images  Instances      Box(P          R      mAP50  mAP50-95): 100%|██████████| 1/1 [00:00<00:00,  4.48it/s]\n",
      "                   all         20         20      0.992      0.907       0.99      0.686\n",
      "\n",
      "      Epoch    GPU_mem   box_loss   cls_loss   dfl_loss  Instances       Size\n",
      "      16/30     0.757G     0.8382      1.119     0.8725         21        320: 100%|██████████| 5/5 [00:00<00:00,  7.34it/s]\n",
      "                 Class     Images  Instances      Box(P          R      mAP50  mAP50-95): 100%|██████████| 1/1 [00:00<00:00,  4.54it/s]\n",
      "                   all         20         20          1      0.246       0.99      0.732\n",
      "\n",
      "      Epoch    GPU_mem   box_loss   cls_loss   dfl_loss  Instances       Size\n",
      "      17/30     0.757G     0.9238      1.203     0.8743         18        320: 100%|██████████| 5/5 [00:00<00:00,  6.91it/s]\n",
      "                 Class     Images  Instances      Box(P          R      mAP50  mAP50-95): 100%|██████████| 1/1 [00:00<00:00,  4.32it/s]\n",
      "                   all         20         20          1      0.669      0.995      0.748\n",
      "\n",
      "      Epoch    GPU_mem   box_loss   cls_loss   dfl_loss  Instances       Size\n",
      "      18/30     0.757G     0.9776      1.132     0.8742         24        320: 100%|██████████| 5/5 [00:00<00:00,  6.88it/s]\n",
      "                 Class     Images  Instances      Box(P          R      mAP50  mAP50-95): 100%|██████████| 1/1 [00:00<00:00,  4.56it/s]\n",
      "                   all         20         20      0.935      0.604      0.972      0.675\n",
      "\n",
      "      Epoch    GPU_mem   box_loss   cls_loss   dfl_loss  Instances       Size\n",
      "      19/30     0.757G      0.976      1.238     0.9258         29        320: 100%|██████████| 5/5 [00:00<00:00,  7.32it/s]\n",
      "                 Class     Images  Instances      Box(P          R      mAP50  mAP50-95): 100%|██████████| 1/1 [00:00<00:00,  4.45it/s]\n",
      "                   all         20         20          1      0.631       0.99      0.748\n",
      "\n",
      "      Epoch    GPU_mem   box_loss   cls_loss   dfl_loss  Instances       Size\n",
      "      20/30     0.757G     0.9703       1.13      0.901         33        320: 100%|██████████| 5/5 [00:00<00:00,  7.23it/s]\n",
      "                 Class     Images  Instances      Box(P          R      mAP50  mAP50-95): 100%|██████████| 1/1 [00:00<00:00,  4.18it/s]\n",
      "                   all         20         20      0.952          1      0.995      0.742\n",
      "Closing dataloader mosaic\n",
      "\n",
      "      Epoch    GPU_mem   box_loss   cls_loss   dfl_loss  Instances       Size\n",
      "      21/30     0.757G     0.7728      1.078     0.8854         16        320: 100%|██████████| 5/5 [00:00<00:00,  6.84it/s]\n",
      "                 Class     Images  Instances      Box(P          R      mAP50  mAP50-95): 100%|██████████| 1/1 [00:00<00:00,  4.52it/s]\n",
      "                   all         20         20      0.969       0.99      0.995      0.712\n",
      "\n",
      "      Epoch    GPU_mem   box_loss   cls_loss   dfl_loss  Instances       Size\n",
      "      22/30     0.757G     0.7586      1.026     0.8611         16        320: 100%|██████████| 5/5 [00:00<00:00,  7.29it/s]\n",
      "                 Class     Images  Instances      Box(P          R      mAP50  mAP50-95): 100%|██████████| 1/1 [00:00<00:00,  4.40it/s]\n",
      "                   all         20         20          1      0.935      0.995      0.737\n",
      "\n",
      "      Epoch    GPU_mem   box_loss   cls_loss   dfl_loss  Instances       Size\n",
      "      23/30     0.757G     0.7436      1.088     0.8709         16        320: 100%|██████████| 5/5 [00:00<00:00,  7.26it/s]\n",
      "                 Class     Images  Instances      Box(P          R      mAP50  mAP50-95): 100%|██████████| 1/1 [00:00<00:00,  4.42it/s]\n",
      "                   all         20         20          1       0.99      0.995      0.695\n",
      "\n",
      "      Epoch    GPU_mem   box_loss   cls_loss   dfl_loss  Instances       Size\n",
      "      24/30     0.757G     0.6529     0.9846     0.8451         16        320: 100%|██████████| 5/5 [00:00<00:00,  7.30it/s]\n",
      "                 Class     Images  Instances      Box(P          R      mAP50  mAP50-95): 100%|██████████| 1/1 [00:00<00:00,  4.45it/s]\n",
      "                   all         20         20       0.97      0.964      0.995      0.757\n",
      "\n",
      "      Epoch    GPU_mem   box_loss   cls_loss   dfl_loss  Instances       Size\n",
      "      25/30     0.757G     0.6534     0.9678     0.8789         16        320: 100%|██████████| 5/5 [00:00<00:00,  7.52it/s]\n",
      "                 Class     Images  Instances      Box(P          R      mAP50  mAP50-95): 100%|██████████| 1/1 [00:00<00:00,  4.47it/s]\n",
      "                   all         20         20      0.969      0.986      0.995      0.769\n",
      "\n",
      "      Epoch    GPU_mem   box_loss   cls_loss   dfl_loss  Instances       Size\n",
      "      26/30     0.757G     0.7037     0.9463     0.8492         15        320: 100%|██████████| 5/5 [00:00<00:00,  7.32it/s]\n",
      "                 Class     Images  Instances      Box(P          R      mAP50  mAP50-95): 100%|██████████| 1/1 [00:00<00:00,  4.45it/s]\n",
      "                   all         20         20      0.969      0.984      0.995      0.744\n",
      "\n",
      "      Epoch    GPU_mem   box_loss   cls_loss   dfl_loss  Instances       Size\n",
      "      27/30     0.757G     0.6043     0.8889     0.8176         16        320: 100%|██████████| 5/5 [00:00<00:00,  7.34it/s]\n",
      "                 Class     Images  Instances      Box(P          R      mAP50  mAP50-95): 100%|██████████| 1/1 [00:00<00:00,  4.38it/s]\n",
      "                   all         20         20      0.967      0.968      0.995      0.701\n",
      "\n",
      "      Epoch    GPU_mem   box_loss   cls_loss   dfl_loss  Instances       Size\n",
      "      28/30     0.757G     0.6307     0.9202     0.8337         16        320: 100%|██████████| 5/5 [00:00<00:00,  7.25it/s]\n",
      "                 Class     Images  Instances      Box(P          R      mAP50  mAP50-95): 100%|██████████| 1/1 [00:00<00:00,  4.58it/s]\n",
      "                   all         20         20      0.977      0.993      0.995      0.777\n",
      "\n",
      "      Epoch    GPU_mem   box_loss   cls_loss   dfl_loss  Instances       Size\n",
      "      29/30     0.757G     0.6236     0.9107      0.851         16        320: 100%|██████████| 5/5 [00:00<00:00,  7.29it/s]\n",
      "                 Class     Images  Instances      Box(P          R      mAP50  mAP50-95): 100%|██████████| 1/1 [00:00<00:00,  4.51it/s]\n",
      "                   all         20         20      0.973      0.994      0.995      0.786\n",
      "\n",
      "      Epoch    GPU_mem   box_loss   cls_loss   dfl_loss  Instances       Size\n",
      "      30/30     0.757G      0.573     0.8812     0.8332         16        320: 100%|██████████| 5/5 [00:00<00:00,  7.32it/s]\n",
      "                 Class     Images  Instances      Box(P          R      mAP50  mAP50-95): 100%|██████████| 1/1 [00:00<00:00,  4.29it/s]\n",
      "                   all         20         20      0.974      0.995      0.995      0.779\n",
      "\n",
      "30 epochs completed in 0.010 hours.\n",
      "Optimizer stripped from models/my_model/artifacts/weights/last.pt, 6.2MB\n",
      "Optimizer stripped from models/my_model/artifacts/weights/best.pt, 6.2MB\n",
      "\n",
      "Validating models/my_model/artifacts/weights/best.pt...\n",
      "Ultralytics YOLOv8.0.50 🚀 Python-3.9.16 torch-1.13.1 CUDA:0 (NVIDIA GeForce RTX 4090, 24215MiB)\n",
      "Model summary (fused): 168 layers, 3006038 parameters, 0 gradients, 8.1 GFLOPs\n",
      "                 Class     Images  Instances      Box(P          R      mAP50  mAP50-95): 100%|██████████| 1/1 [00:00<00:00,  4.35it/s]\n",
      "                   all         20         20      0.973      0.994      0.995      0.786\n",
      "                     1         20         10          1      0.989      0.995      0.706\n",
      "                     2         20         10      0.946          1      0.995      0.866\n",
      "Speed: 0.0ms preprocess, 2.5ms inference, 0.0ms loss, 0.3ms postprocess per image\n",
      "Results saved to \u001b[1mmodels/my_model/artifacts\u001b[0m\n"
     ]
    }
   ],
   "source": [
    "model_dir = hub.train(\n",
    "    dataset_dir=export_dir,\n",
    "    epochs=30,\n",
    "    batch_size=16,\n",
    "    image_size=320\n",
    ")"
   ]
  },
  {
   "cell_type": "code",
   "execution_count": 11,
   "metadata": {},
   "outputs": [
    {
     "name": "stdout",
     "output_type": "stream",
     "text": [
      "\u001b[01;34m/home/lhj/ws/waffle_hub/models/my_model\u001b[00m\n",
      "├── \u001b[01;34martifacts\u001b[00m\n",
      "├── \u001b[01;34mconfigs\u001b[00m\n",
      "├── metrics.csv\n",
      "└── \u001b[01;34mweights\u001b[00m\n",
      "\n",
      "3 directories, 1 file\n"
     ]
    }
   ],
   "source": [
    "! tree -L 1 /home/lhj/ws/waffle_hub/models/my_model"
   ]
  },
  {
   "cell_type": "code",
   "execution_count": 12,
   "metadata": {},
   "outputs": [
    {
     "name": "stdout",
     "output_type": "stream",
     "text": [
      "\u001b[01;34m/home/lhj/ws/waffle_hub/models/my_model/weights\u001b[00m\n",
      "├── best_ckpt.pt\n",
      "└── last_ckpt.pt\n",
      "\n",
      "0 directories, 2 files\n"
     ]
    }
   ],
   "source": [
    "! tree -L 1 /home/lhj/ws/waffle_hub/models/my_model/weights"
   ]
  },
  {
   "cell_type": "code",
   "execution_count": 13,
   "metadata": {},
   "outputs": [
    {
     "name": "stdout",
     "output_type": "stream",
     "text": [
      "Model(name='my_model', backend='ultralytics', version='8.0.50', task='detect', model_type='yolov8', model_size='n')\n"
     ]
    }
   ],
   "source": [
    "hub = UltralyticsHub.load(\"my_model\")"
   ]
  },
  {
   "cell_type": "code",
   "execution_count": 14,
   "metadata": {},
   "outputs": [
    {
     "name": "stderr",
     "output_type": "stream",
     "text": [
      "\n",
      "0: 320x320 1 1, 1: 320x320 1 2, 2: 320x320 1 1, 3: 320x320 1 2, 4: 320x320 1 2, 5: 320x320 1 1, 6: 320x320 1 1, 7: 320x320 1 2, 8: 320x320 1 1, 9: 320x320 1 2, 10: 320x320 1 2, 11: 320x320 1 2, 12: 320x320 1 1, 13: 320x320 1 1, 14: 320x320 1 2, 15: 320x320 1 1, 16: 320x320 1 2, 17: 320x320 1 2, 18: 320x320 1 1, 19: 320x320 1 2, 20: 320x320 1 2, 21: 320x320 1 2, 22: 320x320 1 2, 23: 320x320 1 2, 24: 320x320 1 2, 25: 320x320 1 2, 26: 320x320 1 1, 27: 320x320 1 2, 28: 320x320 1 1, 29: 320x320 1 2, 30: 320x320 1 1, 31: 320x320 1 1, 32: 320x320 1 1, 33: 320x320 1 1, 34: 320x320 1 2, 35: 320x320 1 1, 36: 320x320 1 2, 37: 320x320 1 2, 38: 320x320 1 2, 39: 320x320 1 2, 40: 320x320 1 1, 41: 320x320 1 2, 42: 320x320 1 1, 43: 320x320 1 1, 44: 320x320 1 2, 45: 320x320 1 2, 46: 320x320 1 1, 47: 320x320 1 1, 48: 320x320 1 1, 49: 320x320 1 2, 50: 320x320 1 2, 51: 320x320 1 2, 52: 320x320 1 1, 53: 320x320 1 2, 54: 320x320 1 1, 55: 320x320 1 1, 56: 320x320 1 1, 57: 320x320 1 1, 58: 320x320 1 1, 59: 320x320 1 1, 60: 320x320 1 1, 61: 320x320 1 1, 62: 320x320 1 2, 63: 320x320 1 1, 64: 320x320 1 2, 65: 320x320 1 1, 66: 320x320 1 1, 67: 320x320 1 2, 68: 320x320 1 2, 69: 320x320 1 1, 70: 320x320 1 2, 71: 320x320 1 2, 72: 320x320 1 1, 73: 320x320 1 2, 74: 320x320 1 2, 75: 320x320 1 2, 76: 320x320 1 2, 77: 320x320 1 1, 78: 320x320 1 2, 79: 320x320 1 1, 80: 320x320 1 1, 81: 320x320 1 1, 82: 320x320 1 2, 83: 320x320 1 1, 84: 320x320 1 2, 85: 320x320 1 2, 86: 320x320 1 2, 87: 320x320 1 2, 88: 320x320 1 1, 89: 320x320 1 1, 90: 320x320 1 2, 91: 320x320 1 2, 92: 320x320 1 1, 93: 320x320 1 2, 94: 320x320 1 2, 95: 320x320 1 2, 96: 320x320 1 2, 97: 320x320 1 1, 98: 320x320 1 1, 99: 320x320 1 2, 14.8ms\n",
      "Speed: 0.0ms preprocess, 0.1ms inference, 0.3ms postprocess per image at shape (1, 3, 320, 320)\n"
     ]
    }
   ],
   "source": [
    "inference_dir = hub.inference(\"mnist\")"
   ]
  },
  {
   "cell_type": "code",
   "execution_count": 16,
   "metadata": {},
   "outputs": [
    {
     "name": "stdout",
     "output_type": "stream",
     "text": [
      "models/my_model/inferences\n",
      "└── images\n",
      "    ├── 100.json\n",
      "    ├── 10.json\n",
      "    ├── 11.json\n",
      "    ├── 12.json\n",
      "    ├── 13.json\n",
      "    ├── 14.json\n",
      "    ├── 15.json\n",
      "    ├── 16.json\n"
     ]
    }
   ],
   "source": [
    "! tree models/my_model/inferences | head"
   ]
  },
  {
   "cell_type": "code",
   "execution_count": 17,
   "metadata": {},
   "outputs": [
    {
     "name": "stdout",
     "output_type": "stream",
     "text": [
      "{\n",
      "    \"image_path\": \"images/100.png\",\n",
      "    \"predictions\": [\n",
      "        {\n",
      "            \"bbox\": [\n",
      "                98.5,\n",
      "                117.0,\n",
      "                19.0,\n",
      "                46.0\n",
      "            ],\n",
      "            \"class_name\": \"1\",\n",
      "            \"confidence\": 0.7963184714317322,\n",
      "            \"segment\": []\n",
      "        }\n",
      "    ]\n",
      "}"
     ]
    }
   ],
   "source": [
    "! cat models/my_model/inferences/images/100.json"
   ]
  },
  {
   "cell_type": "code",
   "execution_count": null,
   "metadata": {},
   "outputs": [],
   "source": []
  }
 ],
 "metadata": {
  "kernelspec": {
   "display_name": "play",
   "language": "python",
   "name": "python3"
  },
  "language_info": {
   "codemirror_mode": {
    "name": "ipython",
    "version": 3
   },
   "file_extension": ".py",
   "mimetype": "text/x-python",
   "name": "python",
   "nbconvert_exporter": "python",
   "pygments_lexer": "ipython3",
   "version": "3.9.16"
  },
  "orig_nbformat": 4
 },
 "nbformat": 4,
 "nbformat_minor": 2
}

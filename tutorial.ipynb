{
 "cells": [
  {
   "attachments": {},
   "cell_type": "markdown",
   "metadata": {},
   "source": [
    "<table class=\"tfo-notebook-buttons\" align=\"left\">\n",
    "  \n",
    "  <td>\n",
    "    <a target=\"_blank\" href=\"https://colab.research.google.com/github/ByteBrewer/waffle_hub/blob/Feature%2Fadd-colab-tutorial/tutorial.ipynb\">\n",
    "    <img src=\"https://www.tensorflow.org/images/colab_logo_32px.png\" />\n",
    "    Run in Google Colab</a>\n",
    "  </td>\n",
    "  \n",
    "</table>"
   ]
  },
  {
   "attachments": {},
   "cell_type": "markdown",
   "metadata": {},
   "source": [
    "# Waffle Hub Tutorial"
   ]
  },
  {
   "attachments": {},
   "cell_type": "markdown",
   "metadata": {},
   "source": [
    "## Install dependencies\n",
    "- If you want to use CUDA install torch first.\n",
    "    - https://pytorch.org/get-started/locally/"
   ]
  },
  {
   "cell_type": "code",
   "execution_count": 1,
   "metadata": {},
   "outputs": [
    {
     "name": "stdout",
     "output_type": "stream",
     "text": [
      "Requirement already satisfied: tqdm in /home/lhj/anaconda3/envs/play/lib/python3.9/site-packages (from -r requirements.txt (line 2)) (4.65.0)\n",
      "Requirement already satisfied: tabulate==0.9.0 in /home/lhj/anaconda3/envs/play/lib/python3.9/site-packages (from -r requirements.txt (line 3)) (0.9.0)\n",
      "Requirement already satisfied: pydantic in /home/lhj/anaconda3/envs/play/lib/python3.9/site-packages (from -r requirements.txt (line 4)) (1.10.5)\n",
      "Requirement already satisfied: typer[all] in /home/lhj/anaconda3/envs/play/lib/python3.9/site-packages (from -r requirements.txt (line 5)) (0.7.0)\n",
      "Requirement already satisfied: rich in /home/lhj/anaconda3/envs/play/lib/python3.9/site-packages (from -r requirements.txt (line 6)) (12.6.0)\n",
      "Requirement already satisfied: onnxruntime in /home/lhj/anaconda3/envs/play/lib/python3.9/site-packages (from -r requirements.txt (line 7)) (1.14.1)\n",
      "Requirement already satisfied: torch==1.13.1 in /home/lhj/anaconda3/envs/play/lib/python3.9/site-packages (from -r requirements.txt (line 10)) (1.13.1)\n",
      "Requirement already satisfied: torchaudio==0.13.1 in /home/lhj/anaconda3/envs/play/lib/python3.9/site-packages (from -r requirements.txt (line 11)) (0.13.1)\n",
      "Requirement already satisfied: torchvision==0.14.1 in /home/lhj/anaconda3/envs/play/lib/python3.9/site-packages (from -r requirements.txt (line 12)) (0.14.1)\n",
      "Requirement already satisfied: waffle-utils==0.2.0 in /home/lhj/anaconda3/envs/play/lib/python3.9/site-packages (from -r requirements.txt (line 15)) (0.2.0)\n",
      "Requirement already satisfied: typing_extensions in /home/lhj/anaconda3/envs/play/lib/python3.9/site-packages (from torch==1.13.1->-r requirements.txt (line 10)) (4.5.0)\n",
      "Requirement already satisfied: numpy in /home/lhj/anaconda3/envs/play/lib/python3.9/site-packages (from torchvision==0.14.1->-r requirements.txt (line 12)) (1.23.5)\n",
      "Requirement already satisfied: requests in /home/lhj/anaconda3/envs/play/lib/python3.9/site-packages (from torchvision==0.14.1->-r requirements.txt (line 12)) (2.28.1)\n",
      "Requirement already satisfied: pillow!=8.3.*,>=5.3.0 in /home/lhj/anaconda3/envs/play/lib/python3.9/site-packages (from torchvision==0.14.1->-r requirements.txt (line 12)) (9.4.0)\n",
      "Requirement already satisfied: opencv-python in /home/lhj/anaconda3/envs/play/lib/python3.9/site-packages (from waffle-utils==0.2.0->-r requirements.txt (line 15)) (4.7.0.72)\n",
      "Requirement already satisfied: sentry-sdk in /home/lhj/anaconda3/envs/play/lib/python3.9/site-packages (from waffle-utils==0.2.0->-r requirements.txt (line 15)) (1.16.0)\n",
      "Requirement already satisfied: PyYAML==6.0 in /home/lhj/anaconda3/envs/play/lib/python3.9/site-packages (from waffle-utils==0.2.0->-r requirements.txt (line 15)) (6.0)\n",
      "Requirement already satisfied: natsort==8.3.1 in /home/lhj/anaconda3/envs/play/lib/python3.9/site-packages (from waffle-utils==0.2.0->-r requirements.txt (line 15)) (8.3.1)\n",
      "Requirement already satisfied: wget==3.2 in /home/lhj/anaconda3/envs/play/lib/python3.9/site-packages (from waffle-utils==0.2.0->-r requirements.txt (line 15)) (3.2)\n",
      "Requirement already satisfied: click<9.0.0,>=7.1.1 in /home/lhj/anaconda3/envs/play/lib/python3.9/site-packages (from typer[all]->-r requirements.txt (line 5)) (8.1.3)\n",
      "Requirement already satisfied: shellingham<2.0.0,>=1.3.0 in /home/lhj/anaconda3/envs/play/lib/python3.9/site-packages (from typer[all]->-r requirements.txt (line 5)) (1.5.0.post1)\n",
      "Requirement already satisfied: colorama<0.5.0,>=0.4.3 in /home/lhj/anaconda3/envs/play/lib/python3.9/site-packages (from typer[all]->-r requirements.txt (line 5)) (0.4.6)\n",
      "Requirement already satisfied: commonmark<0.10.0,>=0.9.0 in /home/lhj/anaconda3/envs/play/lib/python3.9/site-packages (from rich->-r requirements.txt (line 6)) (0.9.1)\n",
      "Requirement already satisfied: pygments<3.0.0,>=2.6.0 in /home/lhj/anaconda3/envs/play/lib/python3.9/site-packages (from rich->-r requirements.txt (line 6)) (2.14.0)\n",
      "Requirement already satisfied: sympy in /home/lhj/anaconda3/envs/play/lib/python3.9/site-packages (from onnxruntime->-r requirements.txt (line 7)) (1.11.1)\n",
      "Requirement already satisfied: coloredlogs in /home/lhj/anaconda3/envs/play/lib/python3.9/site-packages (from onnxruntime->-r requirements.txt (line 7)) (15.0.1)\n",
      "Requirement already satisfied: protobuf in /home/lhj/anaconda3/envs/play/lib/python3.9/site-packages (from onnxruntime->-r requirements.txt (line 7)) (4.22.0)\n",
      "Requirement already satisfied: flatbuffers in /home/lhj/anaconda3/envs/play/lib/python3.9/site-packages (from onnxruntime->-r requirements.txt (line 7)) (23.3.3)\n",
      "Requirement already satisfied: packaging in /home/lhj/anaconda3/envs/play/lib/python3.9/site-packages (from onnxruntime->-r requirements.txt (line 7)) (23.0)\n",
      "Requirement already satisfied: humanfriendly>=9.1 in /home/lhj/anaconda3/envs/play/lib/python3.9/site-packages (from coloredlogs->onnxruntime->-r requirements.txt (line 7)) (10.0)\n",
      "Requirement already satisfied: idna<4,>=2.5 in /home/lhj/anaconda3/envs/play/lib/python3.9/site-packages (from requests->torchvision==0.14.1->-r requirements.txt (line 12)) (3.4)\n",
      "Requirement already satisfied: certifi>=2017.4.17 in /home/lhj/anaconda3/envs/play/lib/python3.9/site-packages (from requests->torchvision==0.14.1->-r requirements.txt (line 12)) (2022.12.7)\n",
      "Requirement already satisfied: urllib3<1.27,>=1.21.1 in /home/lhj/anaconda3/envs/play/lib/python3.9/site-packages (from requests->torchvision==0.14.1->-r requirements.txt (line 12)) (1.26.14)\n",
      "Requirement already satisfied: charset-normalizer<3,>=2 in /home/lhj/anaconda3/envs/play/lib/python3.9/site-packages (from requests->torchvision==0.14.1->-r requirements.txt (line 12)) (2.0.4)\n",
      "Requirement already satisfied: mpmath>=0.19 in /home/lhj/anaconda3/envs/play/lib/python3.9/site-packages (from sympy->onnxruntime->-r requirements.txt (line 7)) (1.3.0)\n"
     ]
    }
   ],
   "source": [
    "! pip install -r requirements.txt"
   ]
  },
  {
   "attachments": {},
   "cell_type": "markdown",
   "metadata": {},
   "source": [
    "## Prepare dataset"
   ]
  },
  {
   "cell_type": "code",
   "execution_count": 2,
   "metadata": {},
   "outputs": [],
   "source": [
    "from waffle_utils.file import network, io\n",
    "\n",
    "network.get_file_from_url(\n",
    "    url=\"https://github.com/snuailab/waffle_utils/blob/main/mnist.zip?raw=true\",\n",
    "    out=\"./mnist.zip\"\n",
    ")\n",
    "\n",
    "io.unzip(\n",
    "    src=\"./mnist.zip\",\n",
    "    dst=\"extract\",\n",
    "    create_directory=True\n",
    ")"
   ]
  },
  {
   "cell_type": "code",
   "execution_count": 3,
   "metadata": {},
   "outputs": [],
   "source": [
    "from waffle_utils.dataset import Dataset\n",
    "mnist_dataset = Dataset.from_coco(\n",
    "    name=\"mnist_detection\",\n",
    "    coco_file=\"extract/exports/coco.json\",\n",
    "    coco_root_dir=\"extract/raw/\"\n",
    ")"
   ]
  },
  {
   "cell_type": "code",
   "execution_count": 4,
   "metadata": {},
   "outputs": [
    {
     "name": "stdout",
     "output_type": "stream",
     "text": [
      "\u001b[01;34mdatasets/mnist_detection/sets\u001b[00m\n",
      "├── train.json\n",
      "└── val.json\n",
      "\n",
      "0 directories, 2 files\n"
     ]
    }
   ],
   "source": [
    "mnist_dataset.split_train_val(0.8)\n",
    "! tree datasets/mnist_detection/sets"
   ]
  },
  {
   "cell_type": "code",
   "execution_count": 5,
   "metadata": {},
   "outputs": [
    {
     "name": "stdout",
     "output_type": "stream",
     "text": [
      "\u001b[01;34mdatasets/mnist_detection/exports/YOLO_DETECTION\u001b[00m\n",
      "├── data.yaml\n",
      "├── \u001b[01;34mtrain\u001b[00m\n",
      "└── \u001b[01;34mval\u001b[00m\n",
      "\n",
      "2 directories, 1 file\n"
     ]
    }
   ],
   "source": [
    "export_dir = mnist_dataset.export(\"YOLO_DETECTION\")\n",
    "! tree -L 1 datasets/mnist_detection/exports/YOLO_DETECTION"
   ]
  },
  {
   "cell_type": "code",
   "execution_count": 6,
   "metadata": {},
   "outputs": [
    {
     "name": "stdout",
     "output_type": "stream",
     "text": [
      "path: /home/lhj/ws/waffle_hub/datasets/mnist_detection/exports/YOLO_DETECTION\n",
      "train: train\n",
      "val: val\n",
      "names:\n",
      "    0: '1'\n",
      "    1: '2'\n"
     ]
    }
   ],
   "source": [
    "! cat datasets/mnist_detection/exports/YOLO_DETECTION/data.yaml"
   ]
  },
  {
   "attachments": {},
   "cell_type": "markdown",
   "metadata": {},
   "source": [
    "## Search Available Backend Versions"
   ]
  },
  {
   "cell_type": "code",
   "execution_count": 7,
   "metadata": {},
   "outputs": [
    {
     "name": "stdout",
     "output_type": "stream",
     "text": [
      "┌─────────────┬───────────┐\n",
      "│ Backend     │ Version   │\n",
      "├─────────────┼───────────┤\n",
      "│ ultralytics │ 8.0.54    │\n",
      "└─────────────┴───────────┘\n"
     ]
    },
    {
     "name": "stderr",
     "output_type": "stream",
     "text": [
      "/home/lhj/anaconda3/envs/play/lib/python3.9/site-packages/tqdm/auto.py:21: TqdmWarning: IProgress not found. Please update jupyter and ipywidgets. See https://ipywidgets.readthedocs.io/en/stable/user_install.html\n",
      "  from .autonotebook import tqdm as notebook_tqdm\n"
     ]
    }
   ],
   "source": [
    "from waffle_hub import get_available_backends\n",
    "\n",
    "print(get_available_backends())"
   ]
  },
  {
   "cell_type": "code",
   "execution_count": 8,
   "metadata": {},
   "outputs": [
    {
     "name": "stdout",
     "output_type": "stream",
     "text": [
      "Requirement already satisfied: ultralytics==8.0.54 in /home/lhj/anaconda3/envs/play/lib/python3.9/site-packages (8.0.54)\n",
      "Requirement already satisfied: pandas>=1.1.4 in /home/lhj/anaconda3/envs/play/lib/python3.9/site-packages (from ultralytics==8.0.54) (1.5.3)\n",
      "Requirement already satisfied: seaborn>=0.11.0 in /home/lhj/anaconda3/envs/play/lib/python3.9/site-packages (from ultralytics==8.0.54) (0.12.2)\n",
      "Requirement already satisfied: opencv-python>=4.6.0 in /home/lhj/anaconda3/envs/play/lib/python3.9/site-packages (from ultralytics==8.0.54) (4.7.0.72)\n",
      "Requirement already satisfied: tqdm>=4.64.0 in /home/lhj/anaconda3/envs/play/lib/python3.9/site-packages (from ultralytics==8.0.54) (4.65.0)\n",
      "Requirement already satisfied: sentry-sdk in /home/lhj/anaconda3/envs/play/lib/python3.9/site-packages (from ultralytics==8.0.54) (1.16.0)\n",
      "Requirement already satisfied: thop>=0.1.1 in /home/lhj/anaconda3/envs/play/lib/python3.9/site-packages (from ultralytics==8.0.54) (0.1.1.post2209072238)\n",
      "Requirement already satisfied: scipy>=1.4.1 in /home/lhj/anaconda3/envs/play/lib/python3.9/site-packages (from ultralytics==8.0.54) (1.10.1)\n",
      "Requirement already satisfied: Pillow>=7.1.2 in /home/lhj/anaconda3/envs/play/lib/python3.9/site-packages (from ultralytics==8.0.54) (9.4.0)\n",
      "Requirement already satisfied: torch>=1.7.0 in /home/lhj/anaconda3/envs/play/lib/python3.9/site-packages (from ultralytics==8.0.54) (1.13.1)\n",
      "Requirement already satisfied: psutil in /home/lhj/anaconda3/envs/play/lib/python3.9/site-packages (from ultralytics==8.0.54) (5.9.4)\n",
      "Requirement already satisfied: numpy>=1.21.6 in /home/lhj/anaconda3/envs/play/lib/python3.9/site-packages (from ultralytics==8.0.54) (1.23.5)\n",
      "Requirement already satisfied: PyYAML>=5.3.1 in /home/lhj/anaconda3/envs/play/lib/python3.9/site-packages (from ultralytics==8.0.54) (6.0)\n",
      "Requirement already satisfied: matplotlib>=3.2.2 in /home/lhj/anaconda3/envs/play/lib/python3.9/site-packages (from ultralytics==8.0.54) (3.7.1)\n",
      "Requirement already satisfied: requests>=2.23.0 in /home/lhj/anaconda3/envs/play/lib/python3.9/site-packages (from ultralytics==8.0.54) (2.28.1)\n",
      "Requirement already satisfied: torchvision>=0.8.1 in /home/lhj/anaconda3/envs/play/lib/python3.9/site-packages (from ultralytics==8.0.54) (0.14.1)\n",
      "Requirement already satisfied: kiwisolver>=1.0.1 in /home/lhj/anaconda3/envs/play/lib/python3.9/site-packages (from matplotlib>=3.2.2->ultralytics==8.0.54) (1.4.4)\n",
      "Requirement already satisfied: fonttools>=4.22.0 in /home/lhj/anaconda3/envs/play/lib/python3.9/site-packages (from matplotlib>=3.2.2->ultralytics==8.0.54) (4.39.0)\n",
      "Requirement already satisfied: cycler>=0.10 in /home/lhj/anaconda3/envs/play/lib/python3.9/site-packages (from matplotlib>=3.2.2->ultralytics==8.0.54) (0.11.0)\n",
      "Requirement already satisfied: packaging>=20.0 in /home/lhj/anaconda3/envs/play/lib/python3.9/site-packages (from matplotlib>=3.2.2->ultralytics==8.0.54) (23.0)\n",
      "Requirement already satisfied: contourpy>=1.0.1 in /home/lhj/anaconda3/envs/play/lib/python3.9/site-packages (from matplotlib>=3.2.2->ultralytics==8.0.54) (1.0.7)\n",
      "Requirement already satisfied: python-dateutil>=2.7 in /home/lhj/anaconda3/envs/play/lib/python3.9/site-packages (from matplotlib>=3.2.2->ultralytics==8.0.54) (2.8.2)\n",
      "Requirement already satisfied: importlib-resources>=3.2.0 in /home/lhj/anaconda3/envs/play/lib/python3.9/site-packages (from matplotlib>=3.2.2->ultralytics==8.0.54) (5.12.0)\n",
      "Requirement already satisfied: pyparsing>=2.3.1 in /home/lhj/anaconda3/envs/play/lib/python3.9/site-packages (from matplotlib>=3.2.2->ultralytics==8.0.54) (3.0.9)\n",
      "Requirement already satisfied: pytz>=2020.1 in /home/lhj/anaconda3/envs/play/lib/python3.9/site-packages (from pandas>=1.1.4->ultralytics==8.0.54) (2022.7.1)\n",
      "Requirement already satisfied: certifi>=2017.4.17 in /home/lhj/anaconda3/envs/play/lib/python3.9/site-packages (from requests>=2.23.0->ultralytics==8.0.54) (2022.12.7)\n",
      "Requirement already satisfied: urllib3<1.27,>=1.21.1 in /home/lhj/anaconda3/envs/play/lib/python3.9/site-packages (from requests>=2.23.0->ultralytics==8.0.54) (1.26.14)\n",
      "Requirement already satisfied: charset-normalizer<3,>=2 in /home/lhj/anaconda3/envs/play/lib/python3.9/site-packages (from requests>=2.23.0->ultralytics==8.0.54) (2.0.4)\n",
      "Requirement already satisfied: idna<4,>=2.5 in /home/lhj/anaconda3/envs/play/lib/python3.9/site-packages (from requests>=2.23.0->ultralytics==8.0.54) (3.4)\n",
      "Requirement already satisfied: typing_extensions in /home/lhj/anaconda3/envs/play/lib/python3.9/site-packages (from torch>=1.7.0->ultralytics==8.0.54) (4.5.0)\n",
      "Requirement already satisfied: zipp>=3.1.0 in /home/lhj/anaconda3/envs/play/lib/python3.9/site-packages (from importlib-resources>=3.2.0->matplotlib>=3.2.2->ultralytics==8.0.54) (3.15.0)\n",
      "Requirement already satisfied: six>=1.5 in /home/lhj/anaconda3/envs/play/lib/python3.9/site-packages (from python-dateutil>=2.7->matplotlib>=3.2.2->ultralytics==8.0.54) (1.16.0)\n"
     ]
    }
   ],
   "source": [
    "! pip install ultralytics==8.0.54"
   ]
  },
  {
   "attachments": {},
   "cell_type": "markdown",
   "metadata": {},
   "source": [
    "## Create UltralyticsHub"
   ]
  },
  {
   "cell_type": "code",
   "execution_count": 9,
   "metadata": {},
   "outputs": [
    {
     "name": "stdout",
     "output_type": "stream",
     "text": [
      "\u001b[01;34mhubs/digit_detector\u001b[00m\n",
      "└── \u001b[01;34mconfigs\u001b[00m\n",
      "    └── model.yaml\n",
      "\n",
      "1 directory, 1 file\n"
     ]
    }
   ],
   "source": [
    "from waffle_hub.hub import UltralyticsHub\n",
    "\n",
    "hub = UltralyticsHub(\n",
    "    name=\"digit_detector\",\n",
    "    task=\"object_detection\",\n",
    "    model_type=\"yolov8\",\n",
    "    model_size=\"n\",\n",
    "    classes=[\"1\", \"2\"]\n",
    ")\n",
    "! tree hubs/digit_detector"
   ]
  },
  {
   "cell_type": "code",
   "execution_count": 10,
   "metadata": {},
   "outputs": [
    {
     "name": "stdout",
     "output_type": "stream",
     "text": [
      "name: digit_detector\n",
      "backend: ultralytics\n",
      "version: 8.0.54\n",
      "task: object_detection\n",
      "model_type: yolov8\n",
      "model_size: n\n",
      "classes:\n",
      "-   supercategory: object\n",
      "    name: '1'\n",
      "-   supercategory: object\n",
      "    name: '2'\n"
     ]
    }
   ],
   "source": [
    "! cat hubs/digit_detector/configs/model.yaml"
   ]
  },
  {
   "attachments": {},
   "cell_type": "markdown",
   "metadata": {},
   "source": [
    "### Train"
   ]
  },
  {
   "cell_type": "code",
   "execution_count": 11,
   "metadata": {},
   "outputs": [
    {
     "name": "stderr",
     "output_type": "stream",
     "text": [
      "Ultralytics YOLOv8.0.54 🚀 Python-3.9.16 torch-1.13.1 CUDA:0 (NVIDIA GeForce RTX 4090, 24215MiB)\n",
      "\u001b[34m\u001b[1myolo/engine/trainer: \u001b[0mtask=detect, mode=train, model=yolov8n.pt, data=/home/lhj/ws/waffle_hub/datasets/mnist_detection/exports/YOLO_DETECTION/data.yaml, epochs=30, patience=50, batch=16, imgsz=320, save=True, save_period=-1, cache=False, device=cuda:0, workers=2, project=hubs/digit_detector, name=artifacts, exist_ok=False, pretrained=False, optimizer=SGD, verbose=True, seed=0, deterministic=True, single_cls=False, image_weights=False, rect=True, cos_lr=False, close_mosaic=10, resume=False, overlap_mask=True, mask_ratio=4, dropout=0.0, val=True, split=val, save_json=False, save_hybrid=False, conf=None, iou=0.7, max_det=300, half=False, dnn=False, plots=True, source=None, show=False, save_txt=False, save_conf=False, save_crop=False, hide_labels=False, hide_conf=False, vid_stride=1, line_thickness=3, visualize=False, augment=False, agnostic_nms=False, classes=None, retina_masks=False, boxes=True, format=torchscript, keras=False, optimize=False, int8=False, dynamic=False, simplify=False, opset=None, workspace=4, nms=False, lr0=0.01, lrf=0.01, momentum=0.937, weight_decay=0.0005, warmup_epochs=3.0, warmup_momentum=0.8, warmup_bias_lr=0.1, box=7.5, cls=0.5, dfl=1.5, fl_gamma=0.0, label_smoothing=0.0, nbs=64, hsv_h=0.015, hsv_s=0.7, hsv_v=0.4, degrees=0.0, translate=0.1, scale=0.5, shear=0.0, perspective=0.0, flipud=0.0, fliplr=0.5, mosaic=1.0, mixup=0.0, copy_paste=0.0, cfg=None, v5loader=False, tracker=botsort.yaml, save_dir=hubs/digit_detector/artifacts\n",
      "Overriding model.yaml nc=80 with nc=2\n",
      "\n",
      "                   from  n    params  module                                       arguments                     \n",
      "  0                  -1  1       464  ultralytics.nn.modules.Conv                  [3, 16, 3, 2]                 \n",
      "  1                  -1  1      4672  ultralytics.nn.modules.Conv                  [16, 32, 3, 2]                \n",
      "  2                  -1  1      7360  ultralytics.nn.modules.C2f                   [32, 32, 1, True]             \n",
      "  3                  -1  1     18560  ultralytics.nn.modules.Conv                  [32, 64, 3, 2]                \n",
      "  4                  -1  2     49664  ultralytics.nn.modules.C2f                   [64, 64, 2, True]             \n",
      "  5                  -1  1     73984  ultralytics.nn.modules.Conv                  [64, 128, 3, 2]               \n",
      "  6                  -1  2    197632  ultralytics.nn.modules.C2f                   [128, 128, 2, True]           \n",
      "  7                  -1  1    295424  ultralytics.nn.modules.Conv                  [128, 256, 3, 2]              \n",
      "  8                  -1  1    460288  ultralytics.nn.modules.C2f                   [256, 256, 1, True]           \n",
      "  9                  -1  1    164608  ultralytics.nn.modules.SPPF                  [256, 256, 5]                 \n",
      " 10                  -1  1         0  torch.nn.modules.upsampling.Upsample         [None, 2, 'nearest']          \n",
      " 11             [-1, 6]  1         0  ultralytics.nn.modules.Concat                [1]                           \n",
      " 12                  -1  1    148224  ultralytics.nn.modules.C2f                   [384, 128, 1]                 \n",
      " 13                  -1  1         0  torch.nn.modules.upsampling.Upsample         [None, 2, 'nearest']          \n",
      " 14             [-1, 4]  1         0  ultralytics.nn.modules.Concat                [1]                           \n",
      " 15                  -1  1     37248  ultralytics.nn.modules.C2f                   [192, 64, 1]                  \n",
      " 16                  -1  1     36992  ultralytics.nn.modules.Conv                  [64, 64, 3, 2]                \n",
      " 17            [-1, 12]  1         0  ultralytics.nn.modules.Concat                [1]                           \n",
      " 18                  -1  1    123648  ultralytics.nn.modules.C2f                   [192, 128, 1]                 \n",
      " 19                  -1  1    147712  ultralytics.nn.modules.Conv                  [128, 128, 3, 2]              \n",
      " 20             [-1, 9]  1         0  ultralytics.nn.modules.Concat                [1]                           \n",
      " 21                  -1  1    493056  ultralytics.nn.modules.C2f                   [384, 256, 1]                 \n",
      " 22        [15, 18, 21]  1    751702  ultralytics.nn.modules.Detect                [2, [64, 128, 256]]           \n",
      "Model summary: 225 layers, 3011238 parameters, 3011222 gradients, 8.2 GFLOPs\n",
      "\n",
      "Transferred 319/355 items from pretrained weights\n",
      "\u001b[34m\u001b[1mTensorBoard: \u001b[0mStart with 'tensorboard --logdir hubs/digit_detector/artifacts', view at http://localhost:6006/\n",
      "\u001b[34m\u001b[1mAMP: \u001b[0mrunning Automatic Mixed Precision (AMP) checks with YOLOv8n...\n",
      "\u001b[34m\u001b[1mAMP: \u001b[0mchecks passed ✅\n",
      "\u001b[34m\u001b[1moptimizer:\u001b[0m SGD(lr=0.01) with parameter groups 57 weight(decay=0.0), 64 weight(decay=0.0005), 63 bias\n",
      "WARNING ⚠️ 'rect=True' is incompatible with DataLoader shuffle, setting shuffle=False\n",
      "\u001b[34m\u001b[1mtrain: \u001b[0mScanning /home/lhj/ws/waffle_hub/datasets/mnist_detection/exports/YOLO_DETECTION/train/labels... 80 images, 0 backgrounds, 0 corrupt: 100%|██████████| 80/80 [00:00<00:00, 6769.65it/s]\n",
      "\u001b[34m\u001b[1mtrain: \u001b[0mNew cache created: /home/lhj/ws/waffle_hub/datasets/mnist_detection/exports/YOLO_DETECTION/train/labels.cache\n",
      "\u001b[34m\u001b[1mval: \u001b[0mScanning /home/lhj/ws/waffle_hub/datasets/mnist_detection/exports/YOLO_DETECTION/val/labels... 20 images, 0 backgrounds, 0 corrupt: 100%|██████████| 20/20 [00:00<00:00, 11113.68it/s]\n",
      "\u001b[34m\u001b[1mval: \u001b[0mNew cache created: /home/lhj/ws/waffle_hub/datasets/mnist_detection/exports/YOLO_DETECTION/val/labels.cache\n",
      "Plotting labels to hubs/digit_detector/artifacts/labels.jpg... \n",
      "Image sizes 320 train, 320 val\n",
      "Using 2 dataloader workers\n",
      "Logging results to \u001b[1mhubs/digit_detector/artifacts\u001b[0m\n",
      "Starting training for 30 epochs...\n",
      "\n",
      "      Epoch    GPU_mem   box_loss   cls_loss   dfl_loss  Instances       Size\n",
      "       1/30      0.74G      1.609      4.187      1.114         16        320: 100%|██████████| 5/5 [00:00<00:00,  6.48it/s]\n",
      "/home/lhj/anaconda3/envs/play/lib/python3.9/site-packages/torch/optim/lr_scheduler.py:138: UserWarning: Detected call of `lr_scheduler.step()` before `optimizer.step()`. In PyTorch 1.1.0 and later, you should call them in the opposite order: `optimizer.step()` before `lr_scheduler.step()`.  Failure to do this will result in PyTorch skipping the first value of the learning rate schedule. See more details at https://pytorch.org/docs/stable/optim.html#how-to-adjust-learning-rate\n",
      "  warnings.warn(\"Detected call of `lr_scheduler.step()` before `optimizer.step()`. \"\n",
      "                 Class     Images  Instances      Box(P          R      mAP50  mAP50-95): 100%|██████████| 1/1 [00:00<00:00,  4.52it/s]\n",
      "                   all         20         20    0.00279       0.75    0.00664    0.00447\n",
      "\n",
      "      Epoch    GPU_mem   box_loss   cls_loss   dfl_loss  Instances       Size\n",
      "       2/30      0.74G      1.567       4.28      1.121         16        320: 100%|██████████| 5/5 [00:00<00:00,  7.12it/s]\n",
      "                 Class     Images  Instances      Box(P          R      mAP50  mAP50-95): 100%|██████████| 1/1 [00:00<00:00,  5.14it/s]\n",
      "                   all         20         20    0.00384       0.95     0.0106     0.0075\n",
      "\n",
      "      Epoch    GPU_mem   box_loss   cls_loss   dfl_loss  Instances       Size\n",
      "       3/30     0.753G      1.171      3.941     0.9383         16        320: 100%|██████████| 5/5 [00:00<00:00,  7.00it/s]\n",
      "                 Class     Images  Instances      Box(P          R      mAP50  mAP50-95): 100%|██████████| 1/1 [00:00<00:00,  4.90it/s]\n",
      "                   all         20         20    0.00386          1    0.00992     0.0062\n",
      "\n",
      "      Epoch    GPU_mem   box_loss   cls_loss   dfl_loss  Instances       Size\n",
      "       4/30     0.753G     0.9085      3.655     0.8715         16        320: 100%|██████████| 5/5 [00:00<00:00,  6.89it/s]\n",
      "                 Class     Images  Instances      Box(P          R      mAP50  mAP50-95): 100%|██████████| 1/1 [00:00<00:00,  4.94it/s]\n",
      "                   all         20         20    0.00415          1     0.0153    0.00931\n",
      "\n",
      "      Epoch    GPU_mem   box_loss   cls_loss   dfl_loss  Instances       Size\n",
      "       5/30     0.753G     0.8126      3.243      0.861         16        320: 100%|██████████| 5/5 [00:00<00:00,  7.21it/s]\n",
      "                 Class     Images  Instances      Box(P          R      mAP50  mAP50-95): 100%|██████████| 1/1 [00:00<00:00,  5.03it/s]\n",
      "                   all         20         20    0.00421          1     0.0514     0.0279\n",
      "\n",
      "      Epoch    GPU_mem   box_loss   cls_loss   dfl_loss  Instances       Size\n",
      "       6/30     0.753G     0.7679      2.541     0.8306         15        320: 100%|██████████| 5/5 [00:00<00:00,  7.32it/s]\n",
      "                 Class     Images  Instances      Box(P          R      mAP50  mAP50-95): 100%|██████████| 1/1 [00:00<00:00,  4.95it/s]\n",
      "                   all         20         20    0.00409          1      0.084     0.0381\n",
      "\n",
      "      Epoch    GPU_mem   box_loss   cls_loss   dfl_loss  Instances       Size\n",
      "       7/30     0.753G      0.729        1.8     0.8154         16        320: 100%|██████████| 5/5 [00:00<00:00,  7.23it/s]\n",
      "                 Class     Images  Instances      Box(P          R      mAP50  mAP50-95): 100%|██████████| 1/1 [00:00<00:00,  5.05it/s]\n",
      "                   all         20         20    0.00341          1      0.673      0.492\n",
      "\n",
      "      Epoch    GPU_mem   box_loss   cls_loss   dfl_loss  Instances       Size\n",
      "       8/30     0.753G     0.7944       1.53     0.8281         16        320: 100%|██████████| 5/5 [00:00<00:00,  7.27it/s]\n",
      "                 Class     Images  Instances      Box(P          R      mAP50  mAP50-95): 100%|██████████| 1/1 [00:00<00:00,  5.03it/s]\n",
      "                   all         20         20    0.00336          1      0.807      0.567\n",
      "\n",
      "      Epoch    GPU_mem   box_loss   cls_loss   dfl_loss  Instances       Size\n",
      "       9/30     0.753G     0.8072      1.502     0.8315         16        320: 100%|██████████| 5/5 [00:00<00:00,  7.39it/s]\n",
      "                 Class     Images  Instances      Box(P          R      mAP50  mAP50-95): 100%|██████████| 1/1 [00:00<00:00,  5.05it/s]\n",
      "                   all         20         20    0.00334          1       0.85      0.587\n",
      "\n",
      "      Epoch    GPU_mem   box_loss   cls_loss   dfl_loss  Instances       Size\n",
      "      10/30     0.753G     0.8189      1.333      0.855         16        320: 100%|██████████| 5/5 [00:00<00:00,  7.56it/s]\n",
      "                 Class     Images  Instances      Box(P          R      mAP50  mAP50-95): 100%|██████████| 1/1 [00:00<00:00,  4.94it/s]\n",
      "                   all         20         20    0.00333          1      0.831      0.583\n",
      "\n",
      "      Epoch    GPU_mem   box_loss   cls_loss   dfl_loss  Instances       Size\n",
      "      11/30     0.753G     0.8813      1.249     0.8824         16        320: 100%|██████████| 5/5 [00:00<00:00,  7.39it/s]\n",
      "                 Class     Images  Instances      Box(P          R      mAP50  mAP50-95): 100%|██████████| 1/1 [00:00<00:00,  5.08it/s]\n",
      "                   all         20         20    0.00334          1      0.901      0.632\n",
      "\n",
      "      Epoch    GPU_mem   box_loss   cls_loss   dfl_loss  Instances       Size\n",
      "      12/30     0.753G     0.8046      1.257     0.8546         15        320: 100%|██████████| 5/5 [00:00<00:00,  7.33it/s]\n",
      "                 Class     Images  Instances      Box(P          R      mAP50  mAP50-95): 100%|██████████| 1/1 [00:00<00:00,  4.91it/s]\n",
      "                   all         20         20    0.00335          1      0.951      0.718\n",
      "\n",
      "      Epoch    GPU_mem   box_loss   cls_loss   dfl_loss  Instances       Size\n",
      "      13/30     0.753G     0.8214      1.204     0.8647         16        320: 100%|██████████| 5/5 [00:00<00:00,  7.33it/s]\n",
      "                 Class     Images  Instances      Box(P          R      mAP50  mAP50-95): 100%|██████████| 1/1 [00:00<00:00,  4.79it/s]\n",
      "                   all         20         20    0.00336          1       0.96      0.692\n",
      "\n",
      "      Epoch    GPU_mem   box_loss   cls_loss   dfl_loss  Instances       Size\n",
      "      14/30     0.753G     0.7576      1.145     0.8037         16        320: 100%|██████████| 5/5 [00:00<00:00,  7.26it/s]\n",
      "                 Class     Images  Instances      Box(P          R      mAP50  mAP50-95): 100%|██████████| 1/1 [00:00<00:00,  4.95it/s]\n",
      "                   all         20         20          1       0.41      0.973      0.657\n",
      "\n",
      "      Epoch    GPU_mem   box_loss   cls_loss   dfl_loss  Instances       Size\n",
      "      15/30     0.753G     0.8426      1.202     0.8569         16        320: 100%|██████████| 5/5 [00:00<00:00,  7.28it/s]\n",
      "                 Class     Images  Instances      Box(P          R      mAP50  mAP50-95): 100%|██████████| 1/1 [00:00<00:00,  4.91it/s]\n",
      "                   all         20         20          1      0.323      0.987      0.709\n",
      "\n",
      "      Epoch    GPU_mem   box_loss   cls_loss   dfl_loss  Instances       Size\n",
      "      16/30     0.753G     0.8035      1.085       0.84         16        320: 100%|██████████| 5/5 [00:00<00:00,  7.33it/s]\n",
      "                 Class     Images  Instances      Box(P          R      mAP50  mAP50-95): 100%|██████████| 1/1 [00:00<00:00,  4.99it/s]\n",
      "                   all         20         20          1       0.57      0.982      0.726\n",
      "\n",
      "      Epoch    GPU_mem   box_loss   cls_loss   dfl_loss  Instances       Size\n",
      "      17/30     0.753G     0.8213      1.151     0.8683         16        320: 100%|██████████| 5/5 [00:00<00:00,  7.28it/s]\n",
      "                 Class     Images  Instances      Box(P          R      mAP50  mAP50-95): 100%|██████████| 1/1 [00:00<00:00,  4.83it/s]\n",
      "                   all         20         20          1      0.738      0.981      0.706\n",
      "\n",
      "      Epoch    GPU_mem   box_loss   cls_loss   dfl_loss  Instances       Size\n",
      "      18/30     0.753G     0.7568      1.047     0.8538         16        320: 100%|██████████| 5/5 [00:00<00:00,  7.16it/s]\n",
      "                 Class     Images  Instances      Box(P          R      mAP50  mAP50-95): 100%|██████████| 1/1 [00:00<00:00,  4.97it/s]\n",
      "                   all         20         20          1      0.797      0.986      0.748\n",
      "\n",
      "      Epoch    GPU_mem   box_loss   cls_loss   dfl_loss  Instances       Size\n",
      "      19/30     0.753G     0.7372      1.043     0.8436         16        320: 100%|██████████| 5/5 [00:00<00:00,  7.31it/s]\n",
      "                 Class     Images  Instances      Box(P          R      mAP50  mAP50-95): 100%|██████████| 1/1 [00:00<00:00,  4.98it/s]\n",
      "                   all         20         20      0.984      0.847      0.981      0.697\n",
      "\n",
      "      Epoch    GPU_mem   box_loss   cls_loss   dfl_loss  Instances       Size\n",
      "      20/30     0.753G      0.822      1.155      0.864         16        320: 100%|██████████| 5/5 [00:00<00:00,  7.22it/s]\n",
      "                 Class     Images  Instances      Box(P          R      mAP50  mAP50-95): 100%|██████████| 1/1 [00:00<00:00,  4.94it/s]\n",
      "                   all         20         20      0.952      0.902      0.981      0.764\n",
      "Closing dataloader mosaic\n",
      "\n",
      "      Epoch    GPU_mem   box_loss   cls_loss   dfl_loss  Instances       Size\n",
      "      21/30     0.753G     0.6851      1.006     0.8542         14        320: 100%|██████████| 5/5 [00:00<00:00,  7.06it/s]\n",
      "                 Class     Images  Instances      Box(P          R      mAP50  mAP50-95): 100%|██████████| 1/1 [00:00<00:00,  4.93it/s]\n",
      "                   all         20         20       0.96       0.95       0.99      0.728\n",
      "\n",
      "      Epoch    GPU_mem   box_loss   cls_loss   dfl_loss  Instances       Size\n",
      "      22/30     0.753G      0.716     0.9553     0.8649         15        320: 100%|██████████| 5/5 [00:00<00:00,  7.30it/s]\n",
      "                 Class     Images  Instances      Box(P          R      mAP50  mAP50-95): 100%|██████████| 1/1 [00:00<00:00,  4.79it/s]\n",
      "                   all         20         20      0.933       0.95       0.99      0.759\n",
      "\n",
      "      Epoch    GPU_mem   box_loss   cls_loss   dfl_loss  Instances       Size\n",
      "      23/30     0.753G     0.7294     0.9947     0.8761         16        320: 100%|██████████| 5/5 [00:00<00:00,  7.30it/s]\n",
      "                 Class     Images  Instances      Box(P          R      mAP50  mAP50-95): 100%|██████████| 1/1 [00:00<00:00,  4.90it/s]\n",
      "                   all         20         20      0.942      0.987       0.99       0.74\n",
      "\n",
      "      Epoch    GPU_mem   box_loss   cls_loss   dfl_loss  Instances       Size\n",
      "      24/30     0.753G     0.7218     0.9966     0.8459         16        320: 100%|██████████| 5/5 [00:00<00:00,  7.43it/s]\n",
      "                 Class     Images  Instances      Box(P          R      mAP50  mAP50-95): 100%|██████████| 1/1 [00:00<00:00,  4.94it/s]\n",
      "                   all         20         20       0.97      0.972      0.995      0.807\n",
      "\n",
      "      Epoch    GPU_mem   box_loss   cls_loss   dfl_loss  Instances       Size\n",
      "      25/30     0.753G     0.6949      0.902     0.8499         16        320: 100%|██████████| 5/5 [00:00<00:00,  7.42it/s]\n",
      "                 Class     Images  Instances      Box(P          R      mAP50  mAP50-95): 100%|██████████| 1/1 [00:00<00:00,  4.95it/s]\n",
      "                   all         20         20      0.962      0.972      0.995      0.789\n",
      "\n",
      "      Epoch    GPU_mem   box_loss   cls_loss   dfl_loss  Instances       Size\n",
      "      26/30     0.753G     0.6282     0.9164     0.8401         16        320: 100%|██████████| 5/5 [00:00<00:00,  7.32it/s]\n",
      "                 Class     Images  Instances      Box(P          R      mAP50  mAP50-95): 100%|██████████| 1/1 [00:00<00:00,  5.02it/s]\n",
      "                   all         20         20      0.973      0.992      0.995      0.757\n",
      "\n",
      "      Epoch    GPU_mem   box_loss   cls_loss   dfl_loss  Instances       Size\n",
      "      27/30     0.753G     0.6768     0.8744     0.8489         16        320: 100%|██████████| 5/5 [00:00<00:00,  7.40it/s]\n",
      "                 Class     Images  Instances      Box(P          R      mAP50  mAP50-95): 100%|██████████| 1/1 [00:00<00:00,  4.90it/s]\n",
      "                   all         20         20      0.979      0.989      0.995      0.783\n",
      "\n",
      "      Epoch    GPU_mem   box_loss   cls_loss   dfl_loss  Instances       Size\n",
      "      28/30     0.753G     0.5912     0.8793     0.8119         16        320: 100%|██████████| 5/5 [00:00<00:00,  7.17it/s]\n",
      "                 Class     Images  Instances      Box(P          R      mAP50  mAP50-95): 100%|██████████| 1/1 [00:00<00:00,  4.76it/s]\n",
      "                   all         20         20      0.997      0.995      0.995      0.829\n",
      "\n",
      "      Epoch    GPU_mem   box_loss   cls_loss   dfl_loss  Instances       Size\n",
      "      29/30     0.753G     0.6764     0.8784     0.8466         15        320: 100%|██████████| 5/5 [00:00<00:00,  7.33it/s]\n",
      "                 Class     Images  Instances      Box(P          R      mAP50  mAP50-95): 100%|██████████| 1/1 [00:00<00:00,  4.85it/s]\n",
      "                   all         20         20      0.997      0.995      0.995      0.806\n",
      "\n",
      "      Epoch    GPU_mem   box_loss   cls_loss   dfl_loss  Instances       Size\n",
      "      30/30     0.753G     0.6047     0.8667     0.8249         16        320: 100%|██████████| 5/5 [00:00<00:00,  7.26it/s]\n",
      "                 Class     Images  Instances      Box(P          R      mAP50  mAP50-95): 100%|██████████| 1/1 [00:00<00:00,  4.69it/s]\n",
      "                   all         20         20      0.997      0.996      0.995      0.815\n",
      "\n",
      "30 epochs completed in 0.009 hours.\n",
      "Optimizer stripped from hubs/digit_detector/artifacts/weights/last.pt, 6.2MB\n",
      "Optimizer stripped from hubs/digit_detector/artifacts/weights/best.pt, 6.2MB\n",
      "\n",
      "Validating hubs/digit_detector/artifacts/weights/best.pt...\n",
      "Ultralytics YOLOv8.0.54 🚀 Python-3.9.16 torch-1.13.1 CUDA:0 (NVIDIA GeForce RTX 4090, 24215MiB)\n",
      "Model summary (fused): 168 layers, 3006038 parameters, 0 gradients, 8.1 GFLOPs\n",
      "                 Class     Images  Instances      Box(P          R      mAP50  mAP50-95): 100%|██████████| 1/1 [00:00<00:00,  4.78it/s]\n",
      "                   all         20         20      0.997      0.995      0.995      0.827\n",
      "                     1         20         10          1      0.991      0.995      0.755\n",
      "                     2         20         10      0.994          1      0.995      0.899\n",
      "Speed: 0.0ms preprocess, 2.5ms inference, 0.0ms loss, 0.3ms postprocess per image\n",
      "Results saved to \u001b[1mhubs/digit_detector/artifacts\u001b[0m\n"
     ]
    }
   ],
   "source": [
    "model_dir = hub.train(\n",
    "    dataset_path=export_dir,\n",
    "    epochs=30,\n",
    "    batch_size=16,\n",
    "    image_size=320,\n",
    "    letter_box=True\n",
    ")"
   ]
  },
  {
   "cell_type": "code",
   "execution_count": 12,
   "metadata": {},
   "outputs": [
    {
     "name": "stdout",
     "output_type": "stream",
     "text": [
      "\u001b[01;34mhubs/digit_detector\u001b[00m\n",
      "├── \u001b[01;34martifacts\u001b[00m\n",
      "├── \u001b[01;34mconfigs\u001b[00m\n",
      "├── metrics.csv\n",
      "└── \u001b[01;34mweights\u001b[00m\n",
      "\n",
      "3 directories, 1 file\n"
     ]
    }
   ],
   "source": [
    "! tree -L 1 hubs/digit_detector"
   ]
  },
  {
   "cell_type": "code",
   "execution_count": 13,
   "metadata": {},
   "outputs": [
    {
     "name": "stdout",
     "output_type": "stream",
     "text": [
      "\u001b[01;34mhubs/digit_detector/weights\u001b[00m\n",
      "├── best_ckpt.pt\n",
      "└── last_ckpt.pt\n",
      "\n",
      "0 directories, 2 files\n"
     ]
    }
   ],
   "source": [
    "! tree -L 1 hubs/digit_detector/weights"
   ]
  },
  {
   "cell_type": "markdown",
   "metadata": {},
   "source": [
    "### Inference"
   ]
  },
  {
   "cell_type": "code",
   "execution_count": 14,
   "metadata": {},
   "outputs": [
    {
     "name": "stderr",
     "output_type": "stream",
     "text": [
      "100%|██████████| 7/7 [00:00<00:00, 23.15it/s]\n"
     ]
    }
   ],
   "source": [
    "inference_dir = hub.inference(\n",
    "    source=\"extract/raw/\",\n",
    "    batch_size=16,\n",
    "    confidence_threshold=0.4,\n",
    "    iou_thresold=0.7,\n",
    "    draw=True\n",
    ")"
   ]
  },
  {
   "cell_type": "code",
   "execution_count": 15,
   "metadata": {},
   "outputs": [
    {
     "name": "stdout",
     "output_type": "stream",
     "text": [
      "\u001b[01;34mhubs/digit_detector/inferences\u001b[00m\n",
      "├── \u001b[01;34mdraw\u001b[00m\n",
      "└── \u001b[01;34mresults\u001b[00m\n",
      "\n",
      "2 directories, 0 files\n"
     ]
    }
   ],
   "source": [
    "! tree -L 1 hubs/digit_detector/inferences"
   ]
  },
  {
   "cell_type": "code",
   "execution_count": 16,
   "metadata": {},
   "outputs": [
    {
     "name": "stdout",
     "output_type": "stream",
     "text": [
      "[\n",
      "    {\n",
      "        \"bbox\": [\n",
      "            108.4107666015625,\n",
      "            91.30363464355469,\n",
      "            24.342849731445312,\n",
      "            46.87542724609375\n",
      "        ],\n",
      "        \"score\": 0.565395712852478,\n",
      "        \"class_id\": 0\n",
      "    }\n",
      "]"
     ]
    }
   ],
   "source": [
    "! cat hubs/digit_detector/inferences/results/1.json"
   ]
  },
  {
   "cell_type": "code",
   "execution_count": 17,
   "metadata": {},
   "outputs": [
    {
     "data": {
      "text/plain": [
       "<matplotlib.image.AxesImage at 0x7f2e7cbf5460>"
      ]
     },
     "execution_count": 17,
     "metadata": {},
     "output_type": "execute_result"
    },
    {
     "data": {
      "image/png": "[encoded data removed]",
      "text/plain": [
       "<Figure size 1600x400 with 4 Axes>"
      ]
     },
     "metadata": {},
     "output_type": "display_data"
    }
   ],
   "source": [
    "import cv2\n",
    "import numpy as np\n",
    "import matplotlib.pyplot as plt\n",
    "%matplotlib inline\n",
    "\n",
    "figure = plt.figure(figsize=(16, 4))\n",
    "axes = figure.subplots(1, 4)\n",
    "axes[0].axis(\"off\")\n",
    "axes[1].axis(\"off\")\n",
    "axes[2].axis(\"off\")\n",
    "axes[3].axis(\"off\")\n",
    "\n",
    "axes[0].imshow(cv2.imread(\"hubs/digit_detector/inferences/draw/1.png\"))\n",
    "axes[1].imshow(cv2.imread(\"hubs/digit_detector/inferences/draw/2.png\"))\n",
    "axes[2].imshow(cv2.imread(\"hubs/digit_detector/inferences/draw/92.png\"))\n",
    "axes[3].imshow(cv2.imread(\"hubs/digit_detector/inferences/draw/99.png\"))"
   ]
  },
  {
   "attachments": {},
   "cell_type": "markdown",
   "metadata": {},
   "source": [
    "### Export to Onnx"
   ]
  },
  {
   "cell_type": "code",
   "execution_count": 18,
   "metadata": {},
   "outputs": [
    {
     "name": "stderr",
     "output_type": "stream",
     "text": [
      "/home/lhj/anaconda3/envs/play/lib/python3.9/site-packages/ultralytics/nn/modules.py:410: TracerWarning: Converting a tensor to a Python boolean might cause the trace to be incorrect. We can't record the data flow of Python values, so this value will be treated as a constant in the future. This means that the trace might not generalize to other inputs!\n",
      "  elif self.dynamic or self.shape != shape:\n",
      "/home/lhj/anaconda3/envs/play/lib/python3.9/site-packages/ultralytics/yolo/utils/tal.py:197: TracerWarning: Iterating over a tensor might cause the trace to be incorrect. Passing a tensor of different shape won't change the number of iterations executed (and might lead to errors or silently give incorrect results).\n",
      "  for i, stride in enumerate(strides):\n",
      "/home/lhj/anaconda3/envs/play/lib/python3.9/site-packages/torch/onnx/utils.py:617: UserWarning: ONNX Preprocess - Removing mutation from node aten::sub_ on block input: 'tensor.1'. This changes graph semantics. (Triggered internally at /opt/conda/conda-bld/pytorch_1670525539683/work/torch/csrc/jit/passes/onnx/remove_inplace_ops_for_onnx.cpp:335.)\n",
      "  _C._jit_pass_onnx_remove_inplace_ops_for_onnx(graph, module)\n"
     ]
    }
   ],
   "source": [
    "export_path = hub.export()"
   ]
  },
  {
   "cell_type": "code",
   "execution_count": 19,
   "metadata": {},
   "outputs": [
    {
     "name": "stdout",
     "output_type": "stream",
     "text": [
      "best_ckpt.pt  last_ckpt.pt  model.onnx\n"
     ]
    }
   ],
   "source": [
    "! ls hubs/digit_detector/weights"
   ]
  },
  {
   "cell_type": "code",
   "execution_count": null,
   "metadata": {},
   "outputs": [],
   "source": []
  }
 ],
 "metadata": {
  "kernelspec": {
   "display_name": "play",
   "language": "python",
   "name": "python3"
  },
  "language_info": {
   "codemirror_mode": {
    "name": "ipython",
    "version": 3
   },
   "file_extension": ".py",
   "mimetype": "text/x-python",
   "name": "python",
   "nbconvert_exporter": "python",
   "pygments_lexer": "ipython3",
   "version": "3.9.16"
  },
  "orig_nbformat": 4
 },
 "nbformat": 4,
 "nbformat_minor": 2
}
